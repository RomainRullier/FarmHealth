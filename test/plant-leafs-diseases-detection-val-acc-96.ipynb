{
 "cells": [
  {
   "cell_type": "code",
   "execution_count": 5,
   "id": "bd07798a",
   "metadata": {
    "execution": {
     "iopub.execute_input": "2024-06-23T09:14:13.432190Z",
     "iopub.status.busy": "2024-06-23T09:14:13.431617Z",
     "iopub.status.idle": "2024-06-23T09:14:27.621469Z",
     "shell.execute_reply": "2024-06-23T09:14:27.620555Z"
    },
    "papermill": {
     "duration": 14.202596,
     "end_time": "2024-06-23T09:14:27.623887",
     "exception": false,
     "start_time": "2024-06-23T09:14:13.421291",
     "status": "completed"
    },
    "tags": []
   },
   "outputs": [
    {
     "ename": "ModuleNotFoundError",
     "evalue": "No module named 'cv2'",
     "output_type": "error",
     "traceback": [
      "\u001b[1;31m---------------------------------------------------------------------------\u001b[0m",
      "\u001b[1;31mModuleNotFoundError\u001b[0m                       Traceback (most recent call last)",
      "Cell \u001b[1;32mIn[5], line 13\u001b[0m\n\u001b[0;32m     10\u001b[0m \u001b[38;5;28;01mfrom\u001b[39;00m \u001b[38;5;21;01msklearn\u001b[39;00m\u001b[38;5;21;01m.\u001b[39;00m\u001b[38;5;21;01mmetrics\u001b[39;00m \u001b[38;5;28;01mimport\u001b[39;00m classification_report , confusion_matrix , accuracy_score , auc\n\u001b[0;32m     11\u001b[0m \u001b[38;5;28;01mfrom\u001b[39;00m \u001b[38;5;21;01msklearn\u001b[39;00m\u001b[38;5;21;01m.\u001b[39;00m\u001b[38;5;21;01mmodel_selection\u001b[39;00m \u001b[38;5;28;01mimport\u001b[39;00m train_test_split\n\u001b[1;32m---> 13\u001b[0m \u001b[38;5;28;01mimport\u001b[39;00m \u001b[38;5;21;01mcv2\u001b[39;00m\n\u001b[0;32m     14\u001b[0m \u001b[38;5;66;03m#from google.colab.patches import cv2_imshow\u001b[39;00m\n\u001b[0;32m     15\u001b[0m \u001b[38;5;28;01mfrom\u001b[39;00m \u001b[38;5;21;01mPIL\u001b[39;00m \u001b[38;5;28;01mimport\u001b[39;00m Image \n",
      "\u001b[1;31mModuleNotFoundError\u001b[0m: No module named 'cv2'"
     ]
    }
   ],
   "source": [
    "import warnings\n",
    "warnings.filterwarnings('ignore')\n",
    "\n",
    "import os\n",
    "import pandas as pd\n",
    "import numpy as np\n",
    "import matplotlib.pyplot as plt\n",
    "%matplotlib inline\n",
    "import seaborn as sns\n",
    "from sklearn.metrics import classification_report , confusion_matrix , accuracy_score , auc\n",
    "from sklearn.model_selection import train_test_split\n",
    "\n",
    "import cv2\n",
    "#from google.colab.patches import cv2_imshow\n",
    "from PIL import Image \n",
    "import tensorflow as tf\n",
    "from tensorflow import keras\n",
    "from tensorflow.keras import Sequential\n",
    "from tensorflow.keras.layers import Input, Dense,Conv2D , MaxPooling2D, Flatten,BatchNormalization,Dropout\n",
    "from tensorflow.keras.preprocessing import image_dataset_from_directory\n",
    "import tensorflow_hub as hub \n",
    "\n",
    "from tensorflow.keras.applications import MobileNetV2\n",
    "from tensorflow.keras.applications.vgg19 import VGG19\n",
    "from tensorflow.keras.preprocessing.image import ImageDataGenerator\n",
    "from tensorflow.keras.layers import GlobalAveragePooling2D"
   ]
  },
  {
   "cell_type": "code",
   "execution_count": null,
   "id": "7d186550",
   "metadata": {
    "papermill": {
     "duration": 0.008708,
     "end_time": "2024-06-23T09:14:27.641911",
     "exception": false,
     "start_time": "2024-06-23T09:14:27.633203",
     "status": "completed"
    },
    "tags": []
   },
   "outputs": [],
   "source": []
  },
  {
   "cell_type": "code",
   "execution_count": null,
   "id": "25160377",
   "metadata": {
    "execution": {
     "iopub.execute_input": "2024-06-23T09:14:27.660887Z",
     "iopub.status.busy": "2024-06-23T09:14:27.660329Z",
     "iopub.status.idle": "2024-06-23T09:14:27.664588Z",
     "shell.execute_reply": "2024-06-23T09:14:27.663782Z"
    },
    "papermill": {
     "duration": 0.015635,
     "end_time": "2024-06-23T09:14:27.666333",
     "exception": false,
     "start_time": "2024-06-23T09:14:27.650698",
     "status": "completed"
    },
    "tags": []
   },
   "outputs": [],
   "source": [
    "train_path = \"/kaggle/input/new-plant-diseases-dataset/New Plant Diseases Dataset(Augmented)/New Plant Diseases Dataset(Augmented)/train\"\n",
    "valid_path = \"/kaggle/input/new-plant-diseases-dataset/New Plant Diseases Dataset(Augmented)/New Plant Diseases Dataset(Augmented)/valid\""
   ]
  },
  {
   "cell_type": "code",
   "execution_count": null,
   "id": "9daa024d",
   "metadata": {
    "execution": {
     "iopub.execute_input": "2024-06-23T09:14:27.686004Z",
     "iopub.status.busy": "2024-06-23T09:14:27.685732Z",
     "iopub.status.idle": "2024-06-23T09:15:17.104909Z",
     "shell.execute_reply": "2024-06-23T09:15:17.103918Z"
    },
    "papermill": {
     "duration": 49.432159,
     "end_time": "2024-06-23T09:15:17.107312",
     "exception": false,
     "start_time": "2024-06-23T09:14:27.675153",
     "status": "completed"
    },
    "tags": []
   },
   "outputs": [
    {
     "name": "stdout",
     "output_type": "stream",
     "text": [
      "Found 70295 files belonging to 38 classes.\n"
     ]
    }
   ],
   "source": [
    "train_data = tf.keras.preprocessing.image_dataset_from_directory(\n",
    " train_path,\n",
    "    batch_size=256,\n",
    "  image_size=(224,224), shuffle=True\n",
    ")"
   ]
  },
  {
   "cell_type": "code",
   "execution_count": null,
   "id": "856591d6",
   "metadata": {
    "execution": {
     "iopub.execute_input": "2024-06-23T09:15:17.126790Z",
     "iopub.status.busy": "2024-06-23T09:15:17.126270Z",
     "iopub.status.idle": "2024-06-23T09:15:19.757534Z",
     "shell.execute_reply": "2024-06-23T09:15:19.756813Z"
    },
    "papermill": {
     "duration": 2.6433,
     "end_time": "2024-06-23T09:15:19.759713",
     "exception": false,
     "start_time": "2024-06-23T09:15:17.116413",
     "status": "completed"
    },
    "tags": []
   },
   "outputs": [
    {
     "name": "stdout",
     "output_type": "stream",
     "text": [
      "Found 17572 files belonging to 38 classes.\n"
     ]
    }
   ],
   "source": [
    "valid_data = tf.keras.preprocessing.image_dataset_from_directory(\n",
    " valid_path,\n",
    "    batch_size=256,\n",
    "  image_size=(224,224), shuffle=True\n",
    ")"
   ]
  },
  {
   "cell_type": "code",
   "execution_count": null,
   "id": "0daf49f8",
   "metadata": {
    "papermill": {
     "duration": 0.01043,
     "end_time": "2024-06-23T09:15:19.779470",
     "exception": false,
     "start_time": "2024-06-23T09:15:19.769040",
     "status": "completed"
    },
    "tags": []
   },
   "outputs": [],
   "source": []
  },
  {
   "cell_type": "code",
   "execution_count": null,
   "id": "97ea522c",
   "metadata": {
    "execution": {
     "iopub.execute_input": "2024-06-23T09:15:19.798472Z",
     "iopub.status.busy": "2024-06-23T09:15:19.798201Z",
     "iopub.status.idle": "2024-06-23T09:15:19.825616Z",
     "shell.execute_reply": "2024-06-23T09:15:19.824808Z"
    },
    "papermill": {
     "duration": 0.039118,
     "end_time": "2024-06-23T09:15:19.827489",
     "exception": false,
     "start_time": "2024-06-23T09:15:19.788371",
     "status": "completed"
    },
    "tags": []
   },
   "outputs": [
    {
     "data": {
      "text/plain": [
       "['TomatoEarlyBlight6.JPG',\n",
       " 'TomatoYellowCurlVirus4.JPG',\n",
       " 'TomatoYellowCurlVirus6.JPG',\n",
       " 'PotatoHealthy2.JPG',\n",
       " 'TomatoYellowCurlVirus5.JPG']"
      ]
     },
     "execution_count": 5,
     "metadata": {},
     "output_type": "execute_result"
    }
   ],
   "source": [
    "path = \"/kaggle/input/new-plant-diseases-dataset/test/test\"\n",
    "test_folder = os.listdir(path)\n",
    "test_folder[:5]"
   ]
  },
  {
   "cell_type": "code",
   "execution_count": null,
   "id": "b50405c8",
   "metadata": {
    "execution": {
     "iopub.execute_input": "2024-06-23T09:15:19.847654Z",
     "iopub.status.busy": "2024-06-23T09:15:19.847412Z",
     "iopub.status.idle": "2024-06-23T09:15:19.852739Z",
     "shell.execute_reply": "2024-06-23T09:15:19.851913Z"
    },
    "papermill": {
     "duration": 0.018151,
     "end_time": "2024-06-23T09:15:19.854632",
     "exception": false,
     "start_time": "2024-06-23T09:15:19.836481",
     "status": "completed"
    },
    "tags": []
   },
   "outputs": [
    {
     "data": {
      "text/plain": [
       "38"
      ]
     },
     "execution_count": 6,
     "metadata": {},
     "output_type": "execute_result"
    }
   ],
   "source": [
    "len(train_data.class_names)"
   ]
  },
  {
   "cell_type": "code",
   "execution_count": null,
   "id": "962ca303",
   "metadata": {
    "execution": {
     "iopub.execute_input": "2024-06-23T09:15:19.874325Z",
     "iopub.status.busy": "2024-06-23T09:15:19.873665Z",
     "iopub.status.idle": "2024-06-23T09:15:19.879479Z",
     "shell.execute_reply": "2024-06-23T09:15:19.878693Z"
    },
    "papermill": {
     "duration": 0.017408,
     "end_time": "2024-06-23T09:15:19.881267",
     "exception": false,
     "start_time": "2024-06-23T09:15:19.863859",
     "status": "completed"
    },
    "tags": []
   },
   "outputs": [
    {
     "data": {
      "text/plain": [
       "['Apple___Apple_scab',\n",
       " 'Apple___Black_rot',\n",
       " 'Apple___Cedar_apple_rust',\n",
       " 'Apple___healthy',\n",
       " 'Blueberry___healthy',\n",
       " 'Cherry_(including_sour)___Powdery_mildew',\n",
       " 'Cherry_(including_sour)___healthy',\n",
       " 'Corn_(maize)___Cercospora_leaf_spot Gray_leaf_spot',\n",
       " 'Corn_(maize)___Common_rust_',\n",
       " 'Corn_(maize)___Northern_Leaf_Blight',\n",
       " 'Corn_(maize)___healthy',\n",
       " 'Grape___Black_rot',\n",
       " 'Grape___Esca_(Black_Measles)',\n",
       " 'Grape___Leaf_blight_(Isariopsis_Leaf_Spot)',\n",
       " 'Grape___healthy',\n",
       " 'Orange___Haunglongbing_(Citrus_greening)',\n",
       " 'Peach___Bacterial_spot',\n",
       " 'Peach___healthy',\n",
       " 'Pepper,_bell___Bacterial_spot',\n",
       " 'Pepper,_bell___healthy',\n",
       " 'Potato___Early_blight',\n",
       " 'Potato___Late_blight',\n",
       " 'Potato___healthy',\n",
       " 'Raspberry___healthy',\n",
       " 'Soybean___healthy',\n",
       " 'Squash___Powdery_mildew',\n",
       " 'Strawberry___Leaf_scorch',\n",
       " 'Strawberry___healthy',\n",
       " 'Tomato___Bacterial_spot',\n",
       " 'Tomato___Early_blight',\n",
       " 'Tomato___Late_blight',\n",
       " 'Tomato___Leaf_Mold',\n",
       " 'Tomato___Septoria_leaf_spot',\n",
       " 'Tomato___Spider_mites Two-spotted_spider_mite',\n",
       " 'Tomato___Target_Spot',\n",
       " 'Tomato___Tomato_Yellow_Leaf_Curl_Virus',\n",
       " 'Tomato___Tomato_mosaic_virus',\n",
       " 'Tomato___healthy']"
      ]
     },
     "execution_count": 7,
     "metadata": {},
     "output_type": "execute_result"
    }
   ],
   "source": [
    "class_labels = train_data.class_names\n",
    "class_labels"
   ]
  },
  {
   "cell_type": "code",
   "execution_count": null,
   "id": "1210f655",
   "metadata": {
    "execution": {
     "iopub.execute_input": "2024-06-23T09:15:19.901034Z",
     "iopub.status.busy": "2024-06-23T09:15:19.900801Z",
     "iopub.status.idle": "2024-06-23T09:15:32.029505Z",
     "shell.execute_reply": "2024-06-23T09:15:32.028806Z"
    },
    "papermill": {
     "duration": 12.14082,
     "end_time": "2024-06-23T09:15:32.031435",
     "exception": false,
     "start_time": "2024-06-23T09:15:19.890615",
     "status": "completed"
    },
    "tags": []
   },
   "outputs": [
    {
     "name": "stdout",
     "output_type": "stream",
     "text": [
      "Found 70295 images belonging to 38 classes.\n",
      "Found 17572 images belonging to 38 classes.\n"
     ]
    }
   ],
   "source": [
    "datagen = ImageDataGenerator(rescale=1.0/255.0)\n",
    "\n",
    "# Use the 'datagen' to preprocess the images loaded by 'image_data_from_directory'\n",
    "train_scaled_data = datagen.flow_from_directory(\n",
    "    train_path,\n",
    "    target_size=(224, 224),\n",
    "    batch_size=256,shuffle=True,\n",
    "    class_mode='sparse'\n",
    ")\n",
    "\n",
    "# test_scaled_data = datagen.flow_from_directory(\n",
    "#     \"/kaggle/input/100-bird-species/test\",\n",
    "#     target_size=(224, 224),\n",
    "#     batch_size=256,shuffle=True\n",
    "# )\n",
    "\n",
    "valid_scaled_data = datagen.flow_from_directory(\n",
    "    valid_path,\n",
    "    target_size=(224, 224),\n",
    "    batch_size=256,shuffle=True,\n",
    "    class_mode='sparse'\n",
    ")"
   ]
  },
  {
   "cell_type": "code",
   "execution_count": null,
   "id": "b36e041a",
   "metadata": {
    "execution": {
     "iopub.execute_input": "2024-06-23T09:15:32.052675Z",
     "iopub.status.busy": "2024-06-23T09:15:32.051995Z",
     "iopub.status.idle": "2024-06-23T09:15:32.058602Z",
     "shell.execute_reply": "2024-06-23T09:15:32.057801Z"
    },
    "papermill": {
     "duration": 0.018818,
     "end_time": "2024-06-23T09:15:32.060469",
     "exception": false,
     "start_time": "2024-06-23T09:15:32.041651",
     "status": "completed"
    },
    "tags": []
   },
   "outputs": [
    {
     "data": {
      "text/plain": [
       "{'Apple___Apple_scab': 0,\n",
       " 'Apple___Black_rot': 1,\n",
       " 'Apple___Cedar_apple_rust': 2,\n",
       " 'Apple___healthy': 3,\n",
       " 'Blueberry___healthy': 4,\n",
       " 'Cherry_(including_sour)___Powdery_mildew': 5,\n",
       " 'Cherry_(including_sour)___healthy': 6,\n",
       " 'Corn_(maize)___Cercospora_leaf_spot Gray_leaf_spot': 7,\n",
       " 'Corn_(maize)___Common_rust_': 8,\n",
       " 'Corn_(maize)___Northern_Leaf_Blight': 9,\n",
       " 'Corn_(maize)___healthy': 10,\n",
       " 'Grape___Black_rot': 11,\n",
       " 'Grape___Esca_(Black_Measles)': 12,\n",
       " 'Grape___Leaf_blight_(Isariopsis_Leaf_Spot)': 13,\n",
       " 'Grape___healthy': 14,\n",
       " 'Orange___Haunglongbing_(Citrus_greening)': 15,\n",
       " 'Peach___Bacterial_spot': 16,\n",
       " 'Peach___healthy': 17,\n",
       " 'Pepper,_bell___Bacterial_spot': 18,\n",
       " 'Pepper,_bell___healthy': 19,\n",
       " 'Potato___Early_blight': 20,\n",
       " 'Potato___Late_blight': 21,\n",
       " 'Potato___healthy': 22,\n",
       " 'Raspberry___healthy': 23,\n",
       " 'Soybean___healthy': 24,\n",
       " 'Squash___Powdery_mildew': 25,\n",
       " 'Strawberry___Leaf_scorch': 26,\n",
       " 'Strawberry___healthy': 27,\n",
       " 'Tomato___Bacterial_spot': 28,\n",
       " 'Tomato___Early_blight': 29,\n",
       " 'Tomato___Late_blight': 30,\n",
       " 'Tomato___Leaf_Mold': 31,\n",
       " 'Tomato___Septoria_leaf_spot': 32,\n",
       " 'Tomato___Spider_mites Two-spotted_spider_mite': 33,\n",
       " 'Tomato___Target_Spot': 34,\n",
       " 'Tomato___Tomato_Yellow_Leaf_Curl_Virus': 35,\n",
       " 'Tomato___Tomato_mosaic_virus': 36,\n",
       " 'Tomato___healthy': 37}"
      ]
     },
     "execution_count": 9,
     "metadata": {},
     "output_type": "execute_result"
    }
   ],
   "source": [
    "train_scaled_data.class_indices"
   ]
  },
  {
   "cell_type": "code",
   "execution_count": null,
   "id": "87a977e2",
   "metadata": {
    "execution": {
     "iopub.execute_input": "2024-06-23T09:15:32.081021Z",
     "iopub.status.busy": "2024-06-23T09:15:32.080783Z",
     "iopub.status.idle": "2024-06-23T09:15:33.960724Z",
     "shell.execute_reply": "2024-06-23T09:15:33.959686Z"
    },
    "papermill": {
     "duration": 1.892604,
     "end_time": "2024-06-23T09:15:33.962873",
     "exception": false,
     "start_time": "2024-06-23T09:15:32.070269",
     "status": "completed"
    },
    "tags": []
   },
   "outputs": [
    {
     "name": "stdout",
     "output_type": "stream",
     "text": [
      "[28. 20. 14. 18. 36. 27.  9. 15. 28. 31. 15. 12. 35. 12. 28. 18. 36. 18.\n",
      "  6. 20. 22.  2. 31. 12.  0. 11. 31. 20. 13. 16. 34. 34. 23. 28. 28. 16.\n",
      "  7. 31. 34. 18. 26.  0. 12. 37. 21.  7.  3.  3. 15. 31.  1. 34. 33. 12.\n",
      "  1. 32. 27. 23. 22. 28. 13. 14.  6. 34.  5.  6.  0. 13. 18. 17.  5. 35.\n",
      " 28. 14. 35. 28. 24. 28. 25. 32.  3. 13.  1.  3. 26.  4.  8.  6. 26. 19.\n",
      " 27. 19.  4. 21. 18. 16. 29. 22. 31.  6.  4. 36. 18.  4. 25. 15. 25. 34.\n",
      " 21. 32. 14. 32.  2. 12. 24. 15.  0. 27. 30.  4. 19. 10. 14.  9.  6. 33.\n",
      " 11.  2. 32. 12. 25. 24.  7. 31.  2. 18. 18. 11. 26. 31.  5. 27. 26.  0.\n",
      " 29. 12.  2. 13.  4. 19.  1. 29. 34. 31. 32. 23. 15. 23. 34. 23. 26.  1.\n",
      " 31. 24. 28. 34. 36. 24. 12. 24. 21. 15. 20.  7. 16. 21. 17. 10. 15. 17.\n",
      "  3. 32. 24.  6. 18. 14. 18. 35. 16. 13. 13. 24. 18. 35. 21.  5. 29.  7.\n",
      " 11. 24. 15.  0. 32. 24. 15.  1. 17. 25.  2.  8. 26. 12.  9.  0. 25. 27.\n",
      "  6.  0.  9. 31. 19. 30. 15. 19. 20.  0. 18. 21. 22.  0. 20. 28. 31. 20.\n",
      " 11.  7. 23.  2. 29. 12. 35. 16. 26. 28. 12. 37. 17. 25. 24. 12.  2. 10.\n",
      " 12.  0.  8. 29.]\n"
     ]
    }
   ],
   "source": [
    "for img, label in train_scaled_data:\n",
    "    #print(img)\n",
    "    print(label)\n",
    "    break"
   ]
  },
  {
   "cell_type": "code",
   "execution_count": null,
   "id": "a093c835",
   "metadata": {
    "execution": {
     "iopub.execute_input": "2024-06-23T09:15:33.983727Z",
     "iopub.status.busy": "2024-06-23T09:15:33.983427Z",
     "iopub.status.idle": "2024-06-23T09:15:33.989014Z",
     "shell.execute_reply": "2024-06-23T09:15:33.988162Z"
    },
    "papermill": {
     "duration": 0.017963,
     "end_time": "2024-06-23T09:15:33.990816",
     "exception": false,
     "start_time": "2024-06-23T09:15:33.972853",
     "status": "completed"
    },
    "tags": []
   },
   "outputs": [
    {
     "data": {
      "text/plain": [
       "15.0"
      ]
     },
     "execution_count": 11,
     "metadata": {},
     "output_type": "execute_result"
    }
   ],
   "source": [
    "label[10]"
   ]
  },
  {
   "cell_type": "code",
   "execution_count": null,
   "id": "b2879876",
   "metadata": {
    "execution": {
     "iopub.execute_input": "2024-06-23T09:15:34.011745Z",
     "iopub.status.busy": "2024-06-23T09:15:34.011475Z",
     "iopub.status.idle": "2024-06-23T09:15:34.016628Z",
     "shell.execute_reply": "2024-06-23T09:15:34.015804Z"
    },
    "papermill": {
     "duration": 0.01783,
     "end_time": "2024-06-23T09:15:34.018550",
     "exception": false,
     "start_time": "2024-06-23T09:15:34.000720",
     "status": "completed"
    },
    "tags": []
   },
   "outputs": [
    {
     "data": {
      "text/plain": [
       "38"
      ]
     },
     "execution_count": 12,
     "metadata": {},
     "output_type": "execute_result"
    }
   ],
   "source": [
    "len(class_labels)"
   ]
  },
  {
   "cell_type": "code",
   "execution_count": null,
   "id": "3a31d3c5",
   "metadata": {
    "execution": {
     "iopub.execute_input": "2024-06-23T09:15:34.039993Z",
     "iopub.status.busy": "2024-06-23T09:15:34.039472Z",
     "iopub.status.idle": "2024-06-23T09:15:36.136326Z",
     "shell.execute_reply": "2024-06-23T09:15:36.135487Z"
    },
    "papermill": {
     "duration": 2.109686,
     "end_time": "2024-06-23T09:15:36.138130",
     "exception": false,
     "start_time": "2024-06-23T09:15:34.028444",
     "status": "completed"
    },
    "tags": []
   },
   "outputs": [
    {
     "name": "stdout",
     "output_type": "stream",
     "text": [
      "Downloading data from https://storage.googleapis.com/tensorflow/keras-applications/mobilenet_v2/mobilenet_v2_weights_tf_dim_ordering_tf_kernels_1.0_224_no_top.h5\n",
      "\u001b[1m9406464/9406464\u001b[0m \u001b[32m━━━━━━━━━━━━━━━━━━━━\u001b[0m\u001b[37m\u001b[0m \u001b[1m1s\u001b[0m 0us/step\n"
     ]
    },
    {
     "data": {
      "text/html": [
       "<pre style=\"white-space:pre;overflow-x:auto;line-height:normal;font-family:Menlo,'DejaVu Sans Mono',consolas,'Courier New',monospace\"><span style=\"font-weight: bold\">Model: \"sequential\"</span>\n",
       "</pre>\n"
      ],
      "text/plain": [
       "\u001b[1mModel: \"sequential\"\u001b[0m\n"
      ]
     },
     "metadata": {},
     "output_type": "display_data"
    },
    {
     "data": {
      "text/html": [
       "<pre style=\"white-space:pre;overflow-x:auto;line-height:normal;font-family:Menlo,'DejaVu Sans Mono',consolas,'Courier New',monospace\">┏━━━━━━━━━━━━━━━━━━━━━━━━━━━━━━━━━┳━━━━━━━━━━━━━━━━━━━━━━━━┳━━━━━━━━━━━━━━━┓\n",
       "┃<span style=\"font-weight: bold\"> Layer (type)                    </span>┃<span style=\"font-weight: bold\"> Output Shape           </span>┃<span style=\"font-weight: bold\">       Param # </span>┃\n",
       "┡━━━━━━━━━━━━━━━━━━━━━━━━━━━━━━━━━╇━━━━━━━━━━━━━━━━━━━━━━━━╇━━━━━━━━━━━━━━━┩\n",
       "│ mobilenetv2_1.00_224            │ ?                      │     <span style=\"color: #00af00; text-decoration-color: #00af00\">2,257,984</span> │\n",
       "│ (<span style=\"color: #0087ff; text-decoration-color: #0087ff\">Functional</span>)                    │                        │               │\n",
       "├─────────────────────────────────┼────────────────────────┼───────────────┤\n",
       "│ global_average_pooling2d        │ ?                      │   <span style=\"color: #00af00; text-decoration-color: #00af00\">0</span> (unbuilt) │\n",
       "│ (<span style=\"color: #0087ff; text-decoration-color: #0087ff\">GlobalAveragePooling2D</span>)        │                        │               │\n",
       "├─────────────────────────────────┼────────────────────────┼───────────────┤\n",
       "│ dense (<span style=\"color: #0087ff; text-decoration-color: #0087ff\">Dense</span>)                   │ ?                      │   <span style=\"color: #00af00; text-decoration-color: #00af00\">0</span> (unbuilt) │\n",
       "├─────────────────────────────────┼────────────────────────┼───────────────┤\n",
       "│ dense_1 (<span style=\"color: #0087ff; text-decoration-color: #0087ff\">Dense</span>)                 │ ?                      │   <span style=\"color: #00af00; text-decoration-color: #00af00\">0</span> (unbuilt) │\n",
       "├─────────────────────────────────┼────────────────────────┼───────────────┤\n",
       "│ dense_2 (<span style=\"color: #0087ff; text-decoration-color: #0087ff\">Dense</span>)                 │ ?                      │   <span style=\"color: #00af00; text-decoration-color: #00af00\">0</span> (unbuilt) │\n",
       "└─────────────────────────────────┴────────────────────────┴───────────────┘\n",
       "</pre>\n"
      ],
      "text/plain": [
       "┏━━━━━━━━━━━━━━━━━━━━━━━━━━━━━━━━━┳━━━━━━━━━━━━━━━━━━━━━━━━┳━━━━━━━━━━━━━━━┓\n",
       "┃\u001b[1m \u001b[0m\u001b[1mLayer (type)                   \u001b[0m\u001b[1m \u001b[0m┃\u001b[1m \u001b[0m\u001b[1mOutput Shape          \u001b[0m\u001b[1m \u001b[0m┃\u001b[1m \u001b[0m\u001b[1m      Param #\u001b[0m\u001b[1m \u001b[0m┃\n",
       "┡━━━━━━━━━━━━━━━━━━━━━━━━━━━━━━━━━╇━━━━━━━━━━━━━━━━━━━━━━━━╇━━━━━━━━━━━━━━━┩\n",
       "│ mobilenetv2_1.00_224            │ ?                      │     \u001b[38;5;34m2,257,984\u001b[0m │\n",
       "│ (\u001b[38;5;33mFunctional\u001b[0m)                    │                        │               │\n",
       "├─────────────────────────────────┼────────────────────────┼───────────────┤\n",
       "│ global_average_pooling2d        │ ?                      │   \u001b[38;5;34m0\u001b[0m (unbuilt) │\n",
       "│ (\u001b[38;5;33mGlobalAveragePooling2D\u001b[0m)        │                        │               │\n",
       "├─────────────────────────────────┼────────────────────────┼───────────────┤\n",
       "│ dense (\u001b[38;5;33mDense\u001b[0m)                   │ ?                      │   \u001b[38;5;34m0\u001b[0m (unbuilt) │\n",
       "├─────────────────────────────────┼────────────────────────┼───────────────┤\n",
       "│ dense_1 (\u001b[38;5;33mDense\u001b[0m)                 │ ?                      │   \u001b[38;5;34m0\u001b[0m (unbuilt) │\n",
       "├─────────────────────────────────┼────────────────────────┼───────────────┤\n",
       "│ dense_2 (\u001b[38;5;33mDense\u001b[0m)                 │ ?                      │   \u001b[38;5;34m0\u001b[0m (unbuilt) │\n",
       "└─────────────────────────────────┴────────────────────────┴───────────────┘\n"
      ]
     },
     "metadata": {},
     "output_type": "display_data"
    },
    {
     "data": {
      "text/html": [
       "<pre style=\"white-space:pre;overflow-x:auto;line-height:normal;font-family:Menlo,'DejaVu Sans Mono',consolas,'Courier New',monospace\"><span style=\"font-weight: bold\"> Total params: </span><span style=\"color: #00af00; text-decoration-color: #00af00\">2,257,984</span> (8.61 MB)\n",
       "</pre>\n"
      ],
      "text/plain": [
       "\u001b[1m Total params: \u001b[0m\u001b[38;5;34m2,257,984\u001b[0m (8.61 MB)\n"
      ]
     },
     "metadata": {},
     "output_type": "display_data"
    },
    {
     "data": {
      "text/html": [
       "<pre style=\"white-space:pre;overflow-x:auto;line-height:normal;font-family:Menlo,'DejaVu Sans Mono',consolas,'Courier New',monospace\"><span style=\"font-weight: bold\"> Trainable params: </span><span style=\"color: #00af00; text-decoration-color: #00af00\">0</span> (0.00 B)\n",
       "</pre>\n"
      ],
      "text/plain": [
       "\u001b[1m Trainable params: \u001b[0m\u001b[38;5;34m0\u001b[0m (0.00 B)\n"
      ]
     },
     "metadata": {},
     "output_type": "display_data"
    },
    {
     "data": {
      "text/html": [
       "<pre style=\"white-space:pre;overflow-x:auto;line-height:normal;font-family:Menlo,'DejaVu Sans Mono',consolas,'Courier New',monospace\"><span style=\"font-weight: bold\"> Non-trainable params: </span><span style=\"color: #00af00; text-decoration-color: #00af00\">2,257,984</span> (8.61 MB)\n",
       "</pre>\n"
      ],
      "text/plain": [
       "\u001b[1m Non-trainable params: \u001b[0m\u001b[38;5;34m2,257,984\u001b[0m (8.61 MB)\n"
      ]
     },
     "metadata": {},
     "output_type": "display_data"
    }
   ],
   "source": [
    "# Load pre-trained MobileNetV2 model\n",
    "base_model = MobileNetV2(input_shape=(224,224,3),\n",
    "                         include_top=False, weights='imagenet')\n",
    "\n",
    "# Freeze the pre-trained layers\n",
    "for layer in base_model.layers:\n",
    "    layer.trainable = False\n",
    "\n",
    "# Create a Sequential model\n",
    "model = Sequential()\n",
    "\n",
    "model.add(base_model)\n",
    "model.add(GlobalAveragePooling2D())\n",
    "model.add(Dense(100, activation='relu'))  # Add a dense layer with 1024 units\n",
    "model.add(Dense(100, activation='relu'))   # Add another dense layer with 512 units\n",
    "model.add(Dense(len(class_labels), activation='softmax'))\n",
    "\n",
    "model.compile(optimizer='adam',loss='sparse_categorical_crossentropy',\n",
    "             metrics=['accuracy'])\n",
    "\n",
    "model.summary()"
   ]
  },
  {
   "cell_type": "code",
   "execution_count": null,
   "id": "1dd7cd04",
   "metadata": {
    "execution": {
     "iopub.execute_input": "2024-06-23T09:15:36.163649Z",
     "iopub.status.busy": "2024-06-23T09:15:36.163353Z",
     "iopub.status.idle": "2024-06-23T10:13:32.249004Z",
     "shell.execute_reply": "2024-06-23T10:13:32.248117Z"
    },
    "papermill": {
     "duration": 3476.277319,
     "end_time": "2024-06-23T10:13:32.427685",
     "exception": false,
     "start_time": "2024-06-23T09:15:36.150366",
     "status": "completed"
    },
    "tags": []
   },
   "outputs": [
    {
     "name": "stdout",
     "output_type": "stream",
     "text": [
      "Epoch 1/100\n"
     ]
    },
    {
     "name": "stderr",
     "output_type": "stream",
     "text": [
      "2024-06-23 09:16:07.264734: E external/local_xla/xla/service/slow_operation_alarm.cc:65] Trying algorithm eng3{k11=2} for conv (f32[256,32,112,112]{3,2,1,0}, u8[0]{0}) custom-call(f32[256,32,112,112]{3,2,1,0}, f32[32,1,3,3]{3,2,1,0}), window={size=3x3 pad=1_1x1_1}, dim_labels=bf01_oi01->bf01, feature_group_count=32, custom_call_target=\"__cudnn$convForward\", backend_config={\"conv_result_scale\":1,\"activation_mode\":\"kNone\",\"side_input_scale\":0,\"leakyrelu_alpha\":0} is taking a while...\n",
      "2024-06-23 09:16:07.283498: E external/local_xla/xla/service/slow_operation_alarm.cc:133] The operation took 1.018859076s\n",
      "Trying algorithm eng3{k11=2} for conv (f32[256,32,112,112]{3,2,1,0}, u8[0]{0}) custom-call(f32[256,32,112,112]{3,2,1,0}, f32[32,1,3,3]{3,2,1,0}), window={size=3x3 pad=1_1x1_1}, dim_labels=bf01_oi01->bf01, feature_group_count=32, custom_call_target=\"__cudnn$convForward\", backend_config={\"conv_result_scale\":1,\"activation_mode\":\"kNone\",\"side_input_scale\":0,\"leakyrelu_alpha\":0} is taking a while...\n",
      "2024-06-23 09:16:18.031711: E external/local_xla/xla/service/slow_operation_alarm.cc:65] Trying algorithm eng3{k11=2} for conv (f32[256,144,56,56]{3,2,1,0}, u8[0]{0}) custom-call(f32[256,144,56,56]{3,2,1,0}, f32[144,1,3,3]{3,2,1,0}), window={size=3x3 pad=1_1x1_1}, dim_labels=bf01_oi01->bf01, feature_group_count=144, custom_call_target=\"__cudnn$convForward\", backend_config={\"conv_result_scale\":1,\"activation_mode\":\"kNone\",\"side_input_scale\":0,\"leakyrelu_alpha\":0} is taking a while...\n",
      "2024-06-23 09:16:18.121314: E external/local_xla/xla/service/slow_operation_alarm.cc:133] The operation took 1.089697228s\n",
      "Trying algorithm eng3{k11=2} for conv (f32[256,144,56,56]{3,2,1,0}, u8[0]{0}) custom-call(f32[256,144,56,56]{3,2,1,0}, f32[144,1,3,3]{3,2,1,0}), window={size=3x3 pad=1_1x1_1}, dim_labels=bf01_oi01->bf01, feature_group_count=144, custom_call_target=\"__cudnn$convForward\", backend_config={\"conv_result_scale\":1,\"activation_mode\":\"kNone\",\"side_input_scale\":0,\"leakyrelu_alpha\":0} is taking a while...\n",
      "2024-06-23 09:16:19.168194: E external/local_xla/xla/service/slow_operation_alarm.cc:65] Trying algorithm eng3{k11=2} for conv (f32[256,144,56,56]{3,2,1,0}, u8[0]{0}) custom-call(f32[256,144,56,56]{3,2,1,0}, f32[144,1,3,3]{3,2,1,0}), window={size=3x3 pad=1_1x1_1}, dim_labels=bf01_oi01->bf01, feature_group_count=144, custom_call_target=\"__cudnn$convForward\", backend_config={\"conv_result_scale\":1,\"activation_mode\":\"kNone\",\"side_input_scale\":0,\"leakyrelu_alpha\":0} is taking a while...\n",
      "2024-06-23 09:16:19.248887: E external/local_xla/xla/service/slow_operation_alarm.cc:133] The operation took 1.080789133s\n",
      "Trying algorithm eng3{k11=2} for conv (f32[256,144,56,56]{3,2,1,0}, u8[0]{0}) custom-call(f32[256,144,56,56]{3,2,1,0}, f32[144,1,3,3]{3,2,1,0}), window={size=3x3 pad=1_1x1_1}, dim_labels=bf01_oi01->bf01, feature_group_count=144, custom_call_target=\"__cudnn$convForward\", backend_config={\"conv_result_scale\":1,\"activation_mode\":\"kNone\",\"side_input_scale\":0,\"leakyrelu_alpha\":0} is taking a while...\n",
      "WARNING: All log messages before absl::InitializeLog() is called are written to STDERR\n",
      "I0000 00:00:1719134188.936436      78 device_compiler.h:186] Compiled cluster using XLA!  This line is logged at most once for the lifetime of the process.\n",
      "W0000 00:00:1719134188.968333      78 graph_launch.cc:671] Fallback to op-by-op mode because memset node breaks graph update\n"
     ]
    },
    {
     "name": "stdout",
     "output_type": "stream",
     "text": [
      "\u001b[1m 12/275\u001b[0m \u001b[37m━━━━━━━━━━━━━━━━━━━━\u001b[0m \u001b[1m15:05\u001b[0m 3s/step - accuracy: 0.0948 - loss: 3.5359"
     ]
    },
    {
     "name": "stderr",
     "output_type": "stream",
     "text": [
      "W0000 00:00:1719134226.926903      78 graph_launch.cc:671] Fallback to op-by-op mode because memset node breaks graph update\n"
     ]
    },
    {
     "name": "stdout",
     "output_type": "stream",
     "text": [
      "\u001b[1m275/275\u001b[0m \u001b[32m━━━━━━━━━━━━━━━━━━━━\u001b[0m\u001b[37m\u001b[0m \u001b[1m0s\u001b[0m 2s/step - accuracy: 0.6609 - loss: 1.3152"
     ]
    },
    {
     "name": "stderr",
     "output_type": "stream",
     "text": [
      "W0000 00:00:1719134769.721849      77 graph_launch.cc:671] Fallback to op-by-op mode because memset node breaks graph update\n",
      "W0000 00:00:1719134930.221574      80 graph_launch.cc:671] Fallback to op-by-op mode because memset node breaks graph update\n"
     ]
    },
    {
     "name": "stdout",
     "output_type": "stream",
     "text": [
      "\u001b[1m275/275\u001b[0m \u001b[32m━━━━━━━━━━━━━━━━━━━━\u001b[0m\u001b[37m\u001b[0m \u001b[1m792s\u001b[0m 3s/step - accuracy: 0.6615 - loss: 1.3128 - val_accuracy: 0.9248 - val_loss: 0.2401\n",
      "Epoch 2/100\n",
      "\u001b[1m275/275\u001b[0m \u001b[32m━━━━━━━━━━━━━━━━━━━━\u001b[0m\u001b[37m\u001b[0m \u001b[1m218s\u001b[0m 775ms/step - accuracy: 0.9367 - loss: 0.2008 - val_accuracy: 0.9351 - val_loss: 0.1932\n",
      "Epoch 3/100\n",
      "\u001b[1m275/275\u001b[0m \u001b[32m━━━━━━━━━━━━━━━━━━━━\u001b[0m\u001b[37m\u001b[0m \u001b[1m215s\u001b[0m 767ms/step - accuracy: 0.9543 - loss: 0.1420 - val_accuracy: 0.9459 - val_loss: 0.1641\n",
      "Epoch 4/100\n",
      "\u001b[1m275/275\u001b[0m \u001b[32m━━━━━━━━━━━━━━━━━━━━\u001b[0m\u001b[37m\u001b[0m \u001b[1m217s\u001b[0m 775ms/step - accuracy: 0.9648 - loss: 0.1094 - val_accuracy: 0.9546 - val_loss: 0.1373\n",
      "Epoch 5/100\n",
      "\u001b[1m275/275\u001b[0m \u001b[32m━━━━━━━━━━━━━━━━━━━━\u001b[0m\u001b[37m\u001b[0m \u001b[1m222s\u001b[0m 792ms/step - accuracy: 0.9726 - loss: 0.0857 - val_accuracy: 0.9543 - val_loss: 0.1340\n",
      "Epoch 6/100\n",
      "\u001b[1m275/275\u001b[0m \u001b[32m━━━━━━━━━━━━━━━━━━━━\u001b[0m\u001b[37m\u001b[0m \u001b[1m227s\u001b[0m 809ms/step - accuracy: 0.9777 - loss: 0.0701 - val_accuracy: 0.9549 - val_loss: 0.1347\n",
      "Epoch 7/100\n",
      "\u001b[1m275/275\u001b[0m \u001b[32m━━━━━━━━━━━━━━━━━━━━\u001b[0m\u001b[37m\u001b[0m \u001b[1m218s\u001b[0m 778ms/step - accuracy: 0.9820 - loss: 0.0592 - val_accuracy: 0.9556 - val_loss: 0.1373\n",
      "Epoch 8/100\n",
      "\u001b[1m275/275\u001b[0m \u001b[32m━━━━━━━━━━━━━━━━━━━━\u001b[0m\u001b[37m\u001b[0m \u001b[1m220s\u001b[0m 785ms/step - accuracy: 0.9834 - loss: 0.0517 - val_accuracy: 0.9613 - val_loss: 0.1193\n",
      "Epoch 9/100\n",
      "\u001b[1m275/275\u001b[0m \u001b[32m━━━━━━━━━━━━━━━━━━━━\u001b[0m\u001b[37m\u001b[0m \u001b[1m222s\u001b[0m 793ms/step - accuracy: 0.9848 - loss: 0.0460 - val_accuracy: 0.9619 - val_loss: 0.1160\n",
      "Epoch 10/100\n",
      "\u001b[1m275/275\u001b[0m \u001b[32m━━━━━━━━━━━━━━━━━━━━\u001b[0m\u001b[37m\u001b[0m \u001b[1m262s\u001b[0m 791ms/step - accuracy: 0.9895 - loss: 0.0372 - val_accuracy: 0.9636 - val_loss: 0.1148\n",
      "Epoch 11/100\n",
      "\u001b[1m275/275\u001b[0m \u001b[32m━━━━━━━━━━━━━━━━━━━━\u001b[0m\u001b[37m\u001b[0m \u001b[1m222s\u001b[0m 792ms/step - accuracy: 0.9892 - loss: 0.0347 - val_accuracy: 0.9628 - val_loss: 0.1164\n",
      "Epoch 12/100\n",
      "\u001b[1m275/275\u001b[0m \u001b[32m━━━━━━━━━━━━━━━━━━━━\u001b[0m\u001b[37m\u001b[0m \u001b[1m219s\u001b[0m 780ms/step - accuracy: 0.9919 - loss: 0.0268 - val_accuracy: 0.9610 - val_loss: 0.1246\n",
      "Epoch 13/100\n",
      "\u001b[1m275/275\u001b[0m \u001b[32m━━━━━━━━━━━━━━━━━━━━\u001b[0m\u001b[37m\u001b[0m \u001b[1m219s\u001b[0m 780ms/step - accuracy: 0.9927 - loss: 0.0236 - val_accuracy: 0.9620 - val_loss: 0.1250\n"
     ]
    }
   ],
   "source": [
    "from tensorflow.keras.callbacks import EarlyStopping\n",
    "early_stopping = EarlyStopping(monitor='val_loss', \n",
    "                               patience=3, \n",
    "                               restore_best_weights=True)\n",
    "\n",
    "history = model.fit(train_scaled_data ,batch_size=256,epochs=100,\n",
    "                verbose=1,\n",
    "                validation_data=valid_scaled_data,\n",
    "                callbacks=[early_stopping]) # epochs=5"
   ]
  },
  {
   "cell_type": "code",
   "execution_count": null,
   "id": "b3894ee5",
   "metadata": {
    "execution": {
     "iopub.execute_input": "2024-06-23T10:13:33.030436Z",
     "iopub.status.busy": "2024-06-23T10:13:33.029659Z",
     "iopub.status.idle": "2024-06-23T10:13:33.289745Z",
     "shell.execute_reply": "2024-06-23T10:13:33.288892Z"
    },
    "papermill": {
     "duration": 0.56576,
     "end_time": "2024-06-23T10:13:33.291866",
     "exception": false,
     "start_time": "2024-06-23T10:13:32.726106",
     "status": "completed"
    },
    "tags": []
   },
   "outputs": [],
   "source": [
    "# Save The Model\n",
    "# model.save(\"plant_disease_model.h5\")"
   ]
  },
  {
   "cell_type": "code",
   "execution_count": null,
   "id": "7c27de5b",
   "metadata": {
    "papermill": {
     "duration": 0.293902,
     "end_time": "2024-06-23T10:13:33.948898",
     "exception": false,
     "start_time": "2024-06-23T10:13:33.654996",
     "status": "completed"
    },
    "tags": []
   },
   "outputs": [],
   "source": [
    "# Save the model to .tflifte format (for React Native app)\n",
    "model.save(\"plant_disease_model.tflite\")"
   ]
  },
  {
   "cell_type": "code",
   "execution_count": null,
   "id": "2c76a268",
   "metadata": {
    "execution": {
     "iopub.execute_input": "2024-06-23T10:13:34.557644Z",
     "iopub.status.busy": "2024-06-23T10:13:34.556783Z",
     "iopub.status.idle": "2024-06-23T10:17:20.951365Z",
     "shell.execute_reply": "2024-06-23T10:17:20.950302Z"
    },
    "papermill": {
     "duration": 226.707983,
     "end_time": "2024-06-23T10:17:20.953378",
     "exception": false,
     "start_time": "2024-06-23T10:13:34.245395",
     "status": "completed"
    },
    "tags": []
   },
   "outputs": [
    {
     "name": "stdout",
     "output_type": "stream",
     "text": [
      "\u001b[1m275/275\u001b[0m \u001b[32m━━━━━━━━━━━━━━━━━━━━\u001b[0m\u001b[37m\u001b[0m \u001b[1m180s\u001b[0m 653ms/step - accuracy: 0.9915 - loss: 0.0295\n"
     ]
    },
    {
     "name": "stderr",
     "output_type": "stream",
     "text": [
      "W0000 00:00:1719137795.234602      79 graph_launch.cc:671] Fallback to op-by-op mode because memset node breaks graph update\n"
     ]
    },
    {
     "name": "stdout",
     "output_type": "stream",
     "text": [
      "Loss on Train data: 0.029700370505452156\n",
      "Accuracy on Train data: 0.9911942481994629\n",
      "\u001b[1m69/69\u001b[0m \u001b[32m━━━━━━━━━━━━━━━━━━━━\u001b[0m\u001b[37m\u001b[0m \u001b[1m44s\u001b[0m 640ms/step - accuracy: 0.9616 - loss: 0.1191\n",
      "Loss on Test data: 0.11479122936725616\n",
      "Accuracy on Test data: 0.9635784029960632\n"
     ]
    }
   ],
   "source": [
    "loss,acc = model.evaluate(train_scaled_data)\n",
    "print(\"Loss on Train data:\",loss)\n",
    "print(\"Accuracy on Train data:\",acc)\n",
    "\n",
    "loss1,acc1 = model.evaluate(valid_scaled_data)\n",
    "\n",
    "print(\"Loss on Test data:\",loss1)\n",
    "print(\"Accuracy on Test data:\",acc1)"
   ]
  },
  {
   "cell_type": "code",
   "execution_count": null,
   "id": "1a364008",
   "metadata": {
    "execution": {
     "iopub.execute_input": "2024-06-23T10:17:21.619007Z",
     "iopub.status.busy": "2024-06-23T10:17:21.618669Z",
     "iopub.status.idle": "2024-06-23T10:17:21.623532Z",
     "shell.execute_reply": "2024-06-23T10:17:21.622572Z"
    },
    "papermill": {
     "duration": 0.337943,
     "end_time": "2024-06-23T10:17:21.625493",
     "exception": false,
     "start_time": "2024-06-23T10:17:21.287550",
     "status": "completed"
    },
    "tags": []
   },
   "outputs": [],
   "source": [
    "acc = history.history[\"accuracy\"]\n",
    "val_acc = history.history[\"val_accuracy\"]\n",
    "\n",
    "loss = history.history[\"loss\"]\n",
    "val_loss = history.history[\"val_loss\"]"
   ]
  },
  {
   "cell_type": "code",
   "execution_count": null,
   "id": "2ce560e7",
   "metadata": {
    "execution": {
     "iopub.execute_input": "2024-06-23T10:17:22.273375Z",
     "iopub.status.busy": "2024-06-23T10:17:22.272631Z",
     "iopub.status.idle": "2024-06-23T10:17:24.515715Z",
     "shell.execute_reply": "2024-06-23T10:17:24.514520Z"
    },
    "papermill": {
     "duration": 2.569941,
     "end_time": "2024-06-23T10:17:24.517340",
     "exception": true,
     "start_time": "2024-06-23T10:17:21.947399",
     "status": "failed"
    },
    "tags": []
   },
   "outputs": [
    {
     "ename": "ValueError",
     "evalue": "x and y must have same first dimension, but have shapes (11,) and (13,)",
     "output_type": "error",
     "traceback": [
      "\u001b[0;31m---------------------------------------------------------------------------\u001b[0m",
      "\u001b[0;31mValueError\u001b[0m                                Traceback (most recent call last)",
      "Cell \u001b[0;32mIn[18], line 4\u001b[0m\n\u001b[1;32m      2\u001b[0m plt\u001b[38;5;241m.\u001b[39mfigure(figsize\u001b[38;5;241m=\u001b[39m(\u001b[38;5;241m12\u001b[39m,\u001b[38;5;241m6\u001b[39m))\n\u001b[1;32m      3\u001b[0m plt\u001b[38;5;241m.\u001b[39msubplot(\u001b[38;5;241m1\u001b[39m,\u001b[38;5;241m2\u001b[39m,\u001b[38;5;241m1\u001b[39m)\n\u001b[0;32m----> 4\u001b[0m \u001b[43mplt\u001b[49m\u001b[38;5;241;43m.\u001b[39;49m\u001b[43mplot\u001b[49m\u001b[43m(\u001b[49m\u001b[38;5;28;43mrange\u001b[39;49m\u001b[43m(\u001b[49m\u001b[43mEPOCHS\u001b[49m\u001b[43m)\u001b[49m\u001b[43m,\u001b[49m\u001b[43macc\u001b[49m\u001b[43m,\u001b[49m\u001b[43m \u001b[49m\u001b[43mlabel\u001b[49m\u001b[38;5;241;43m=\u001b[39;49m\u001b[38;5;124;43m\"\u001b[39;49m\u001b[38;5;124;43mTraining Accuracy\u001b[39;49m\u001b[38;5;124;43m\"\u001b[39;49m\u001b[43m)\u001b[49m\n\u001b[1;32m      5\u001b[0m plt\u001b[38;5;241m.\u001b[39mplot(\u001b[38;5;28mrange\u001b[39m(EPOCHS),val_acc, label\u001b[38;5;241m=\u001b[39m\u001b[38;5;124m\"\u001b[39m\u001b[38;5;124mValidation Accuracy\u001b[39m\u001b[38;5;124m\"\u001b[39m)\n\u001b[1;32m      6\u001b[0m plt\u001b[38;5;241m.\u001b[39mlegend(loc\u001b[38;5;241m=\u001b[39m\u001b[38;5;124m\"\u001b[39m\u001b[38;5;124mlower right\u001b[39m\u001b[38;5;124m\"\u001b[39m)\n",
      "File \u001b[0;32m/opt/conda/lib/python3.10/site-packages/matplotlib/pyplot.py:2812\u001b[0m, in \u001b[0;36mplot\u001b[0;34m(scalex, scaley, data, *args, **kwargs)\u001b[0m\n\u001b[1;32m   2810\u001b[0m \u001b[38;5;129m@_copy_docstring_and_deprecators\u001b[39m(Axes\u001b[38;5;241m.\u001b[39mplot)\n\u001b[1;32m   2811\u001b[0m \u001b[38;5;28;01mdef\u001b[39;00m \u001b[38;5;21mplot\u001b[39m(\u001b[38;5;241m*\u001b[39margs, scalex\u001b[38;5;241m=\u001b[39m\u001b[38;5;28;01mTrue\u001b[39;00m, scaley\u001b[38;5;241m=\u001b[39m\u001b[38;5;28;01mTrue\u001b[39;00m, data\u001b[38;5;241m=\u001b[39m\u001b[38;5;28;01mNone\u001b[39;00m, \u001b[38;5;241m*\u001b[39m\u001b[38;5;241m*\u001b[39mkwargs):\n\u001b[0;32m-> 2812\u001b[0m     \u001b[38;5;28;01mreturn\u001b[39;00m \u001b[43mgca\u001b[49m\u001b[43m(\u001b[49m\u001b[43m)\u001b[49m\u001b[38;5;241;43m.\u001b[39;49m\u001b[43mplot\u001b[49m\u001b[43m(\u001b[49m\n\u001b[1;32m   2813\u001b[0m \u001b[43m        \u001b[49m\u001b[38;5;241;43m*\u001b[39;49m\u001b[43margs\u001b[49m\u001b[43m,\u001b[49m\u001b[43m \u001b[49m\u001b[43mscalex\u001b[49m\u001b[38;5;241;43m=\u001b[39;49m\u001b[43mscalex\u001b[49m\u001b[43m,\u001b[49m\u001b[43m \u001b[49m\u001b[43mscaley\u001b[49m\u001b[38;5;241;43m=\u001b[39;49m\u001b[43mscaley\u001b[49m\u001b[43m,\u001b[49m\n\u001b[1;32m   2814\u001b[0m \u001b[43m        \u001b[49m\u001b[38;5;241;43m*\u001b[39;49m\u001b[38;5;241;43m*\u001b[39;49m\u001b[43m(\u001b[49m\u001b[43m{\u001b[49m\u001b[38;5;124;43m\"\u001b[39;49m\u001b[38;5;124;43mdata\u001b[39;49m\u001b[38;5;124;43m\"\u001b[39;49m\u001b[43m:\u001b[49m\u001b[43m \u001b[49m\u001b[43mdata\u001b[49m\u001b[43m}\u001b[49m\u001b[43m \u001b[49m\u001b[38;5;28;43;01mif\u001b[39;49;00m\u001b[43m \u001b[49m\u001b[43mdata\u001b[49m\u001b[43m \u001b[49m\u001b[38;5;129;43;01mis\u001b[39;49;00m\u001b[43m \u001b[49m\u001b[38;5;129;43;01mnot\u001b[39;49;00m\u001b[43m \u001b[49m\u001b[38;5;28;43;01mNone\u001b[39;49;00m\u001b[43m \u001b[49m\u001b[38;5;28;43;01melse\u001b[39;49;00m\u001b[43m \u001b[49m\u001b[43m{\u001b[49m\u001b[43m}\u001b[49m\u001b[43m)\u001b[49m\u001b[43m,\u001b[49m\u001b[43m \u001b[49m\u001b[38;5;241;43m*\u001b[39;49m\u001b[38;5;241;43m*\u001b[39;49m\u001b[43mkwargs\u001b[49m\u001b[43m)\u001b[49m\n",
      "File \u001b[0;32m/opt/conda/lib/python3.10/site-packages/matplotlib/axes/_axes.py:1688\u001b[0m, in \u001b[0;36mAxes.plot\u001b[0;34m(self, scalex, scaley, data, *args, **kwargs)\u001b[0m\n\u001b[1;32m   1445\u001b[0m \u001b[38;5;250m\u001b[39m\u001b[38;5;124;03m\"\"\"\u001b[39;00m\n\u001b[1;32m   1446\u001b[0m \u001b[38;5;124;03mPlot y versus x as lines and/or markers.\u001b[39;00m\n\u001b[1;32m   1447\u001b[0m \n\u001b[0;32m   (...)\u001b[0m\n\u001b[1;32m   1685\u001b[0m \u001b[38;5;124;03m(``'green'``) or hex strings (``'#008000'``).\u001b[39;00m\n\u001b[1;32m   1686\u001b[0m \u001b[38;5;124;03m\"\"\"\u001b[39;00m\n\u001b[1;32m   1687\u001b[0m kwargs \u001b[38;5;241m=\u001b[39m cbook\u001b[38;5;241m.\u001b[39mnormalize_kwargs(kwargs, mlines\u001b[38;5;241m.\u001b[39mLine2D)\n\u001b[0;32m-> 1688\u001b[0m lines \u001b[38;5;241m=\u001b[39m [\u001b[38;5;241m*\u001b[39m\u001b[38;5;28mself\u001b[39m\u001b[38;5;241m.\u001b[39m_get_lines(\u001b[38;5;241m*\u001b[39margs, data\u001b[38;5;241m=\u001b[39mdata, \u001b[38;5;241m*\u001b[39m\u001b[38;5;241m*\u001b[39mkwargs)]\n\u001b[1;32m   1689\u001b[0m \u001b[38;5;28;01mfor\u001b[39;00m line \u001b[38;5;129;01min\u001b[39;00m lines:\n\u001b[1;32m   1690\u001b[0m     \u001b[38;5;28mself\u001b[39m\u001b[38;5;241m.\u001b[39madd_line(line)\n",
      "File \u001b[0;32m/opt/conda/lib/python3.10/site-packages/matplotlib/axes/_base.py:311\u001b[0m, in \u001b[0;36m_process_plot_var_args.__call__\u001b[0;34m(self, data, *args, **kwargs)\u001b[0m\n\u001b[1;32m    309\u001b[0m     this \u001b[38;5;241m+\u001b[39m\u001b[38;5;241m=\u001b[39m args[\u001b[38;5;241m0\u001b[39m],\n\u001b[1;32m    310\u001b[0m     args \u001b[38;5;241m=\u001b[39m args[\u001b[38;5;241m1\u001b[39m:]\n\u001b[0;32m--> 311\u001b[0m \u001b[38;5;28;01myield from\u001b[39;00m \u001b[38;5;28;43mself\u001b[39;49m\u001b[38;5;241;43m.\u001b[39;49m\u001b[43m_plot_args\u001b[49m\u001b[43m(\u001b[49m\n\u001b[1;32m    312\u001b[0m \u001b[43m    \u001b[49m\u001b[43mthis\u001b[49m\u001b[43m,\u001b[49m\u001b[43m \u001b[49m\u001b[43mkwargs\u001b[49m\u001b[43m,\u001b[49m\u001b[43m \u001b[49m\u001b[43mambiguous_fmt_datakey\u001b[49m\u001b[38;5;241;43m=\u001b[39;49m\u001b[43mambiguous_fmt_datakey\u001b[49m\u001b[43m)\u001b[49m\n",
      "File \u001b[0;32m/opt/conda/lib/python3.10/site-packages/matplotlib/axes/_base.py:504\u001b[0m, in \u001b[0;36m_process_plot_var_args._plot_args\u001b[0;34m(self, tup, kwargs, return_kwargs, ambiguous_fmt_datakey)\u001b[0m\n\u001b[1;32m    501\u001b[0m     \u001b[38;5;28mself\u001b[39m\u001b[38;5;241m.\u001b[39maxes\u001b[38;5;241m.\u001b[39myaxis\u001b[38;5;241m.\u001b[39mupdate_units(y)\n\u001b[1;32m    503\u001b[0m \u001b[38;5;28;01mif\u001b[39;00m x\u001b[38;5;241m.\u001b[39mshape[\u001b[38;5;241m0\u001b[39m] \u001b[38;5;241m!=\u001b[39m y\u001b[38;5;241m.\u001b[39mshape[\u001b[38;5;241m0\u001b[39m]:\n\u001b[0;32m--> 504\u001b[0m     \u001b[38;5;28;01mraise\u001b[39;00m \u001b[38;5;167;01mValueError\u001b[39;00m(\u001b[38;5;124mf\u001b[39m\u001b[38;5;124m\"\u001b[39m\u001b[38;5;124mx and y must have same first dimension, but \u001b[39m\u001b[38;5;124m\"\u001b[39m\n\u001b[1;32m    505\u001b[0m                      \u001b[38;5;124mf\u001b[39m\u001b[38;5;124m\"\u001b[39m\u001b[38;5;124mhave shapes \u001b[39m\u001b[38;5;132;01m{\u001b[39;00mx\u001b[38;5;241m.\u001b[39mshape\u001b[38;5;132;01m}\u001b[39;00m\u001b[38;5;124m and \u001b[39m\u001b[38;5;132;01m{\u001b[39;00my\u001b[38;5;241m.\u001b[39mshape\u001b[38;5;132;01m}\u001b[39;00m\u001b[38;5;124m\"\u001b[39m)\n\u001b[1;32m    506\u001b[0m \u001b[38;5;28;01mif\u001b[39;00m x\u001b[38;5;241m.\u001b[39mndim \u001b[38;5;241m>\u001b[39m \u001b[38;5;241m2\u001b[39m \u001b[38;5;129;01mor\u001b[39;00m y\u001b[38;5;241m.\u001b[39mndim \u001b[38;5;241m>\u001b[39m \u001b[38;5;241m2\u001b[39m:\n\u001b[1;32m    507\u001b[0m     \u001b[38;5;28;01mraise\u001b[39;00m \u001b[38;5;167;01mValueError\u001b[39;00m(\u001b[38;5;124mf\u001b[39m\u001b[38;5;124m\"\u001b[39m\u001b[38;5;124mx and y can be no greater than 2D, but have \u001b[39m\u001b[38;5;124m\"\u001b[39m\n\u001b[1;32m    508\u001b[0m                      \u001b[38;5;124mf\u001b[39m\u001b[38;5;124m\"\u001b[39m\u001b[38;5;124mshapes \u001b[39m\u001b[38;5;132;01m{\u001b[39;00mx\u001b[38;5;241m.\u001b[39mshape\u001b[38;5;132;01m}\u001b[39;00m\u001b[38;5;124m and \u001b[39m\u001b[38;5;132;01m{\u001b[39;00my\u001b[38;5;241m.\u001b[39mshape\u001b[38;5;132;01m}\u001b[39;00m\u001b[38;5;124m\"\u001b[39m)\n",
      "\u001b[0;31mValueError\u001b[0m: x and y must have same first dimension, but have shapes (11,) and (13,)"
     ]
    },
    {
     "data": {
      "image/png": "[encoded data removed]",
      "text/plain": [
       "<Figure size 1200x600 with 1 Axes>"
      ]
     },
     "metadata": {},
     "output_type": "display_data"
    }
   ],
   "source": [
    "EPOCHS=11\n",
    "plt.figure(figsize=(12,6))\n",
    "plt.subplot(1,2,1)\n",
    "plt.plot(range(EPOCHS),acc, label=\"Training Accuracy\")\n",
    "plt.plot(range(EPOCHS),val_acc, label=\"Validation Accuracy\")\n",
    "plt.legend(loc=\"lower right\")\n",
    "plt.title(\"Training and Validation Accuracy\")\n",
    "\n",
    "#plt.figure(figsize=(6,6))\n",
    "plt.subplot(1,2,2)\n",
    "plt.plot(range(EPOCHS),loss, label=\"Training Loss\")\n",
    "plt.plot(range(EPOCHS),val_loss, label=\"Validation Loss\")\n",
    "plt.legend(loc=\"lower right\")\n",
    "plt.title(\"Training and Validation Loss\")\n",
    "plt.show()"
   ]
  },
  {
   "cell_type": "code",
   "execution_count": null,
   "id": "4564e344",
   "metadata": {
    "papermill": {
     "duration": null,
     "end_time": null,
     "exception": null,
     "start_time": null,
     "status": "pending"
    },
    "tags": []
   },
   "outputs": [],
   "source": []
  },
  {
   "cell_type": "markdown",
   "id": "87280fbf",
   "metadata": {
    "papermill": {
     "duration": null,
     "end_time": null,
     "exception": null,
     "start_time": null,
     "status": "pending"
    },
    "tags": []
   },
   "source": [
    "## Predicting On Test Data"
   ]
  },
  {
   "cell_type": "code",
   "execution_count": null,
   "id": "9e3a1d5a",
   "metadata": {
    "papermill": {
     "duration": null,
     "end_time": null,
     "exception": null,
     "start_time": null,
     "status": "pending"
    },
    "tags": []
   },
   "outputs": [],
   "source": []
  },
  {
   "cell_type": "code",
   "execution_count": null,
   "id": "b602e297",
   "metadata": {
    "execution": {
     "iopub.execute_input": "2024-06-22T09:04:15.517087Z",
     "iopub.status.busy": "2024-06-22T09:04:15.516399Z",
     "iopub.status.idle": "2024-06-22T09:04:15.541461Z",
     "shell.execute_reply": "2024-06-22T09:04:15.540639Z",
     "shell.execute_reply.started": "2024-06-22T09:04:15.517050Z"
    },
    "papermill": {
     "duration": null,
     "end_time": null,
     "exception": null,
     "start_time": null,
     "status": "pending"
    },
    "tags": []
   },
   "outputs": [],
   "source": [
    "# Load the test image\n",
    "from tensorflow.keras.preprocessing import image\n",
    "img_path = '/kaggle/input/new-plant-diseases-dataset/test/test/AppleCedarRust1.JPG'\n",
    "img_path = \"/kaggle/input/new-plant-diseases-dataset/test/test/AppleScab1.JPG\"\n",
    "img = image.load_img(img_path, target_size=(224, 224))\n",
    "#img\n",
    "img_array = image.img_to_array(img)\n",
    "print(img_array.shape) \n",
    "img_array = np.expand_dims(img_array, axis=0)  # Add batch dimension\n",
    "# Scale The Data\n",
    "img_array = img_array/255\n",
    "print(img_array.shape)"
   ]
  },
  {
   "cell_type": "code",
   "execution_count": null,
   "id": "75e525bd",
   "metadata": {
    "execution": {
     "iopub.execute_input": "2024-06-22T09:04:18.254018Z",
     "iopub.status.busy": "2024-06-22T09:04:18.253111Z",
     "iopub.status.idle": "2024-06-22T09:04:19.632925Z",
     "shell.execute_reply": "2024-06-22T09:04:19.631994Z",
     "shell.execute_reply.started": "2024-06-22T09:04:18.253980Z"
    },
    "papermill": {
     "duration": null,
     "end_time": null,
     "exception": null,
     "start_time": null,
     "status": "pending"
    },
    "tags": []
   },
   "outputs": [],
   "source": [
    "y_pred = model.predict(img_array)\n",
    "y_pred"
   ]
  },
  {
   "cell_type": "code",
   "execution_count": null,
   "id": "1e877a96",
   "metadata": {
    "execution": {
     "iopub.execute_input": "2024-06-22T09:04:23.545832Z",
     "iopub.status.busy": "2024-06-22T09:04:23.545118Z",
     "iopub.status.idle": "2024-06-22T09:04:23.551709Z",
     "shell.execute_reply": "2024-06-22T09:04:23.550805Z",
     "shell.execute_reply.started": "2024-06-22T09:04:23.545796Z"
    },
    "papermill": {
     "duration": null,
     "end_time": null,
     "exception": null,
     "start_time": null,
     "status": "pending"
    },
    "tags": []
   },
   "outputs": [],
   "source": [
    "np.argmax(y_pred[0])"
   ]
  },
  {
   "cell_type": "code",
   "execution_count": null,
   "id": "21136a7e",
   "metadata": {
    "execution": {
     "iopub.execute_input": "2024-06-22T09:04:27.370377Z",
     "iopub.status.busy": "2024-06-22T09:04:27.370018Z",
     "iopub.status.idle": "2024-06-22T09:04:27.376215Z",
     "shell.execute_reply": "2024-06-22T09:04:27.375239Z",
     "shell.execute_reply.started": "2024-06-22T09:04:27.370348Z"
    },
    "papermill": {
     "duration": null,
     "end_time": null,
     "exception": null,
     "start_time": null,
     "status": "pending"
    },
    "tags": []
   },
   "outputs": [],
   "source": [
    "len(y_pred[0])"
   ]
  },
  {
   "cell_type": "code",
   "execution_count": null,
   "id": "de1c0023",
   "metadata": {
    "execution": {
     "iopub.execute_input": "2024-06-22T09:04:30.618529Z",
     "iopub.status.busy": "2024-06-22T09:04:30.618152Z",
     "iopub.status.idle": "2024-06-22T09:04:30.625243Z",
     "shell.execute_reply": "2024-06-22T09:04:30.624122Z",
     "shell.execute_reply.started": "2024-06-22T09:04:30.618491Z"
    },
    "papermill": {
     "duration": null,
     "end_time": null,
     "exception": null,
     "start_time": null,
     "status": "pending"
    },
    "tags": []
   },
   "outputs": [],
   "source": [
    "class_labels[np.argmax(y_pred[0])]"
   ]
  },
  {
   "cell_type": "code",
   "execution_count": null,
   "id": "02bbac06",
   "metadata": {
    "execution": {
     "iopub.execute_input": "2024-06-22T09:04:34.162790Z",
     "iopub.status.busy": "2024-06-22T09:04:34.162403Z",
     "iopub.status.idle": "2024-06-22T09:04:34.170358Z",
     "shell.execute_reply": "2024-06-22T09:04:34.169269Z",
     "shell.execute_reply.started": "2024-06-22T09:04:34.162751Z"
    },
    "papermill": {
     "duration": null,
     "end_time": null,
     "exception": null,
     "start_time": null,
     "status": "pending"
    },
    "tags": []
   },
   "outputs": [],
   "source": [
    "dict_class = {'Label':class_labels}\n",
    "dict_class"
   ]
  },
  {
   "cell_type": "code",
   "execution_count": null,
   "id": "10c6786a",
   "metadata": {
    "execution": {
     "iopub.execute_input": "2024-06-22T09:04:38.675491Z",
     "iopub.status.busy": "2024-06-22T09:04:38.675130Z",
     "iopub.status.idle": "2024-06-22T09:04:38.681482Z",
     "shell.execute_reply": "2024-06-22T09:04:38.680559Z",
     "shell.execute_reply.started": "2024-06-22T09:04:38.675459Z"
    },
    "papermill": {
     "duration": null,
     "end_time": null,
     "exception": null,
     "start_time": null,
     "status": "pending"
    },
    "tags": []
   },
   "outputs": [],
   "source": [
    "dict_class['Label'][2]"
   ]
  },
  {
   "cell_type": "code",
   "execution_count": null,
   "id": "796e25b1",
   "metadata": {
    "execution": {
     "iopub.execute_input": "2024-06-22T09:04:42.879435Z",
     "iopub.status.busy": "2024-06-22T09:04:42.879044Z",
     "iopub.status.idle": "2024-06-22T09:04:42.884743Z",
     "shell.execute_reply": "2024-06-22T09:04:42.883734Z",
     "shell.execute_reply.started": "2024-06-22T09:04:42.879404Z"
    },
    "papermill": {
     "duration": null,
     "end_time": null,
     "exception": null,
     "start_time": null,
     "status": "pending"
    },
    "tags": []
   },
   "outputs": [],
   "source": [
    "import json\n",
    "\n",
    "with open(\"class_labels.json\",'w') as file:\n",
    "    json.dump(dict_class,file)"
   ]
  },
  {
   "cell_type": "code",
   "execution_count": null,
   "id": "eced82ae",
   "metadata": {
    "execution": {
     "iopub.execute_input": "2024-06-22T09:11:23.116110Z",
     "iopub.status.busy": "2024-06-22T09:11:23.115321Z",
     "iopub.status.idle": "2024-06-22T09:11:25.869917Z",
     "shell.execute_reply": "2024-06-22T09:11:25.869082Z",
     "shell.execute_reply.started": "2024-06-22T09:11:23.116073Z"
    },
    "papermill": {
     "duration": null,
     "end_time": null,
     "exception": null,
     "start_time": null,
     "status": "pending"
    },
    "tags": []
   },
   "outputs": [],
   "source": [
    "# Function to make predict\n",
    "import tensorflow as tf\n",
    "import numpy as np\n",
    "\n",
    "loaded_model = tf.keras.models.load_model('/kaggle/working/plant_disease_model.h5')\n",
    "\n",
    "# Function to load and preprocess image\n",
    "def load_image(img_path):\n",
    "    img = tf.keras.preprocessing.image.load_img(img_path, target_size=(224, 224))\n",
    "    img_array = tf.keras.preprocessing.image.img_to_array(img)\n",
    "    img_array = np.expand_dims(img_array, axis=0)  # Convert single image to a batch\n",
    "    img_array = img_array / 255.0  # Normalize the image as done in preprocessing\n",
    "    return img_array\n",
    "\n",
    "# Example usage\n",
    "img_path = '/kaggle/input/new-plant-diseases-dataset/test/test/AppleCedarRust1.JPG'\n",
    "img = load_image(img_path)\n",
    "predictions = loaded_model.predict(img)\n",
    "predicted_class = np.argmax(predictions, axis=1)\n",
    "print(f'Predicted class: {predicted_class}')\n",
    "print(class_labels[int(predicted_class)] )\n"
   ]
  },
  {
   "cell_type": "markdown",
   "id": "c66b8f28",
   "metadata": {
    "papermill": {
     "duration": null,
     "end_time": null,
     "exception": null,
     "start_time": null,
     "status": "pending"
    },
    "tags": []
   },
   "source": [
    "# Make prediction for all test images"
   ]
  },
  {
   "cell_type": "code",
   "execution_count": null,
   "id": "20971475",
   "metadata": {
    "execution": {
     "iopub.execute_input": "2024-06-22T09:15:18.537650Z",
     "iopub.status.busy": "2024-06-22T09:15:18.537285Z",
     "iopub.status.idle": "2024-06-22T09:15:23.602817Z",
     "shell.execute_reply": "2024-06-22T09:15:23.601803Z",
     "shell.execute_reply.started": "2024-06-22T09:15:18.537620Z"
    },
    "papermill": {
     "duration": null,
     "end_time": null,
     "exception": null,
     "start_time": null,
     "status": "pending"
    },
    "tags": []
   },
   "outputs": [],
   "source": [
    "import os\n",
    "import tensorflow as tf\n",
    "import numpy as np\n",
    "\n",
    "# Load the trained model\n",
    "loaded_model = tf.keras.models.load_model('/kaggle/working/plant_disease_model.h5')\n",
    "\n",
    "# Function to load and preprocess image\n",
    "def load_image(img_path):\n",
    "    img = tf.keras.preprocessing.image.load_img(img_path, target_size=(224, 224))\n",
    "    img_array = tf.keras.preprocessing.image.img_to_array(img)\n",
    "    img_array = np.expand_dims(img_array, axis=0)  # Convert single image to a batch\n",
    "    img_array = img_array / 255.0  # Normalize the image as done in preprocessing\n",
    "    return img_array\n",
    "\n",
    "# Example usage\n",
    "test_folder = '/kaggle/input/new-plant-diseases-dataset/test/test/'\n",
    "\n",
    "def predict_images_in_folder(test_folder):\n",
    "    for file in os.listdir(test_folder):\n",
    "        img_path = os.path.join(test_folder, file)\n",
    "        img = load_image(img_path)\n",
    "        predictions = loaded_model.predict(img)\n",
    "        predicted_class = np.argmax(predictions, axis=1)[0]  # Extract single prediction\n",
    "        print(f'Image: {file}, Predicted class: {predicted_class}, Predicted label: {file}')\n",
    "\n",
    "# Call function to predict and compare labels for all images in the test folder\n",
    "predict_images_in_folder(test_folder)\n"
   ]
  }
 ],
 "metadata": {
  "kaggle": {
   "accelerator": "nvidiaTeslaT4",
   "dataSources": [
    {
     "datasetId": 78313,
     "sourceId": 182633,
     "sourceType": "datasetVersion"
    }
   ],
   "isGpuEnabled": true,
   "isInternetEnabled": true,
   "language": "python",
   "sourceType": "notebook"
  },
  "kernelspec": {
   "display_name": "Python 3",
   "language": "python",
   "name": "python3"
  },
  "language_info": {
   "codemirror_mode": {
    "name": "ipython",
    "version": 3
   },
   "file_extension": ".py",
   "mimetype": "text/x-python",
   "name": "python",
   "nbconvert_exporter": "python",
   "pygments_lexer": "ipython3",
   "version": "3.12.3"
  },
  "papermill": {
   "default_parameters": {},
   "duration": 3797.03151,
   "end_time": "2024-06-23T10:17:27.756170",
   "environment_variables": {},
   "exception": true,
   "input_path": "__notebook__.ipynb",
   "output_path": "__notebook__.ipynb",
   "parameters": {},
   "start_time": "2024-06-23T09:14:10.724660",
   "version": "2.5.0"
  }
 },
 "nbformat": 4,
 "nbformat_minor": 5
}
